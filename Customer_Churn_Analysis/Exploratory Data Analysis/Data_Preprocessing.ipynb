{
 "cells": [
  {
   "cell_type": "markdown",
   "id": "69c60efa-9e09-4ee1-a9b5-6a183be311f6",
   "metadata": {},
   "source": [
    "<h1 align ='center'> Customer Churn Prediction <h1>"
   ]
  },
  {
   "cell_type": "markdown",
   "id": "26e7b33a-acce-4f00-affa-74ed6cfa3718",
   "metadata": {},
   "source": [
    "<img src='https://kranthi.me/wp-content/uploads/2020/04/Telecom_Churn_Prediction-e1587281300645.jpg' align='center'>"
   ]
  },
  {
   "cell_type": "markdown",
   "id": "5a500ae4-e6f8-41a1-8a4e-6163aeb62d2d",
   "metadata": {},
   "source": [
    "## Table of Contents"
   ]
  },
  {
   "cell_type": "markdown",
   "id": "d9072761-8f36-4ac2-ac47-6244d2e9ddf1",
   "metadata": {},
   "source": [
    "### [1. Introduction](#1)\n",
    "### [2. Variable Description](#1)\n",
    "### [1. Importing Librarires](#1)\n",
    "### [1. Basic Understanding Dataset](#1)\n",
    "### [1. Data Preprocessing](#1)\n",
    "### [1. Exploratory Data Analysis](#1)"
   ]
  },
  {
   "cell_type": "markdown",
   "id": "034432cb-dc44-4160-89fb-41d36c8bb713",
   "metadata": {},
   "source": [
    "<a id=1 > </a>\n",
    "## 1. Introduction"
   ]
  },
  {
   "cell_type": "markdown",
   "id": "df9af21d-e3a6-4063-a7d8-3111d410004d",
   "metadata": {},
   "source": [
    "In the telecom industry, customers are able to choose from multiple service providers and actively switch from one operator to another. In this highly competitive market, the telecommunications industry experiences an average of 15-25% annual churn rate. Given the fact that it costs 5-10 times more to acquire a new customer than to retain an existing one, customer retention has now become even more important than customer acquisition.\n",
    "\n",
    "For many incumbent operators, retaining high profitable customers is the number one business goal.\n",
    "\n",
    "To reduce customer churn, telecom companies need to predict which customers are at high risk of churn.\n",
    "\n",
    "In this project, we will analyse customer-level data of a leading telecom firm, build predictive models to identify customers at high risk of churn and identify the main indicators of churn."
   ]
  },
  {
   "cell_type": "markdown",
   "id": "3ec7d092-9172-451d-a342-57f7b8764108",
   "metadata": {},
   "source": [
    "### 2. Variable Description"
   ]
  },
  {
   "cell_type": "markdown",
   "id": "d463607d-535b-4fa4-89ac-c0332b29963a",
   "metadata": {},
   "source": [
    "1. **Customer_id** = id number of each customer\n",
    "2. **Gender** = male or female\n",
    "3. **SeniorCitizen** = Whether the customer is a senior citizen or not (1, 0)\n",
    "4. **Partner**=Whether the customer has a partner or not (Yes, No)\n",
    "5. **Dependents**=Whether the customer has dependents or not (Yes, No)\n",
    "6. **Tenure**=Number of months the customer has stayed with the company\n",
    "7. **Phone Service**= Whether the customer has a phone service or not (Yes, No)\n",
    "8. **MultipleLines**= Whether the customer has multiple lines or not (Yes, No, No phone service)\n",
    "9. **InternetService**=Customer’s internet service provider (DSL, Fiber optic, No)\n",
    "10. **OnlineSecurity**=Whether the customer has online security or not (Yes, No, No internet service)\n",
    "11. **OnlineBackup** = Whether the customer has online backup or not\n",
    "12. **Device Protection** = Whether the customer hsa device protection or not\n",
    "13. **TechSupport** = Whether the customer has techsupport or not\n",
    "14. **StreamingTV** = Whether the customer has Streaming tv or not\n",
    "15. **StreamingMovies** = Whether the customer has movie or not\n",
    "16. **Contract** = Contract options for Customer (Month-to month,one year)\n",
    "17. **PaperlessBilling** = Whether the customer uses paperless bill or not\n",
    "18. **PaymentMethod** = Payment method customer uses \n",
    "19. **MonthlyCharges** = Amount of Monthly Charges\n",
    "20. **TotalCharges** = Amount of Total Charges\n",
    "21. **Churn** =  Whether the customer churned or stayed."
   ]
  },
  {
   "cell_type": "markdown",
   "id": "fcb83bbc-e414-45ae-a46c-663da68dbe33",
   "metadata": {},
   "source": [
    "### 3. Importing Librarires"
   ]
  },
  {
   "cell_type": "code",
   "execution_count": null,
   "id": "b26c5160",
   "metadata": {},
   "outputs": [],
   "source": [
    "import pandas as pd\n",
    "import numpy as np\n",
    "import matplotlib.pyplot as plt\n",
    "import seaborn as sns\n",
    "%matplotlib inline\n",
    "from sklearn.linear_model import LogisticRegression\n",
    "from sklearn.ensemble import RandomForestClassifier\n",
    "plt.style.use('ggplot')\n",
    "\n",
    "pd.options.display.max_columns = 100\n",
    "pd.options.display.max_rows = 9000\n",
    "\n",
    "import warnings\n",
    "warnings.filterwarnings('ignore')"
   ]
  },
  {
   "cell_type": "code",
   "execution_count": null,
   "id": "3f154be1",
   "metadata": {},
   "outputs": [],
   "source": [
    "df = pd.read_csv('churn_data.csv')"
   ]
  },
  {
   "cell_type": "markdown",
   "id": "e44b5e31-d35e-40c5-90fa-52a43e0bee3f",
   "metadata": {},
   "source": [
    "### 4. Basic Understanding Dataset"
   ]
  },
  {
   "cell_type": "code",
   "execution_count": null,
   "id": "15958f2f",
   "metadata": {},
   "outputs": [],
   "source": [
    "df.head()"
   ]
  },
  {
   "cell_type": "code",
   "execution_count": null,
   "id": "7900296f",
   "metadata": {},
   "outputs": [],
   "source": [
    "df.shape"
   ]
  },
  {
   "cell_type": "code",
   "execution_count": null,
   "id": "655d42b9-901a-44f9-95f0-22d4fee39e73",
   "metadata": {},
   "outputs": [],
   "source": [
    "df.info()"
   ]
  },
  {
   "cell_type": "markdown",
   "id": "eca4401c-496f-4ca2-b8e8-9c0c1898a7e5",
   "metadata": {},
   "source": [
    "- We see that **SeniorCitizen** columns is string type, and **TotalCharges** is object. We will need to reformat these columns in order to analyse properly"
   ]
  },
  {
   "cell_type": "code",
   "execution_count": null,
   "id": "139a6616-9168-4140-b644-818b5aaedff3",
   "metadata": {},
   "outputs": [],
   "source": [
    "df.describe()"
   ]
  },
  {
   "cell_type": "markdown",
   "id": "74f79c66-33a0-4672-9bc4-07e66fbf96af",
   "metadata": {},
   "source": [
    "### Checking Missing Values"
   ]
  },
  {
   "cell_type": "code",
   "execution_count": null,
   "id": "2cc99750-24e7-4721-865a-2590ebf8d1bb",
   "metadata": {},
   "outputs": [],
   "source": [
    "df.isnull().sum()"
   ]
  },
  {
   "cell_type": "markdown",
   "id": "20df0596-5f8e-4ea0-ab19-55f45d687e02",
   "metadata": {},
   "source": [
    "### Data Preprocessing"
   ]
  },
  {
   "cell_type": "markdown",
   "id": "cf13111b-4e44-43d6-b86a-aaa5acfce09a",
   "metadata": {},
   "source": [
    "#### Deleting Redundant Values"
   ]
  },
  {
   "cell_type": "code",
   "execution_count": null,
   "id": "bc820815-921d-4f1f-bf1a-c4133a366fdd",
   "metadata": {},
   "outputs": [],
   "source": [
    "df.drop('customerID',axis=1,inplace=True)"
   ]
  },
  {
   "cell_type": "markdown",
   "id": "ba5cc5bc-94a2-40cb-9daa-f3b60c0f0f48",
   "metadata": {},
   "source": [
    "#### Rename Columns"
   ]
  },
  {
   "cell_type": "code",
   "execution_count": null,
   "id": "dd19f3b3-3fee-4b5a-b19e-d511292dc939",
   "metadata": {},
   "outputs": [],
   "source": [
    "df.rename(columns={'gender':'Gender','tenure':'Tenure'},inplace=True)"
   ]
  },
  {
   "cell_type": "markdown",
   "id": "92ad7a14-331c-475c-b23a-1de6d8490ca9",
   "metadata": {},
   "source": [
    "#### Reformatting Our columns"
   ]
  },
  {
   "cell_type": "code",
   "execution_count": null,
   "id": "fb9c2d06-eac2-476e-b7d7-5ab66066be4b",
   "metadata": {},
   "outputs": [],
   "source": [
    "df['SeniorCitizen'] = np.where(df['SeniorCitizen']==1,'Yes','No') ## changed the value to categorical for analysis"
   ]
  },
  {
   "cell_type": "code",
   "execution_count": null,
   "id": "5f2ce548-2e3b-43f5-a9de-ca355d681115",
   "metadata": {},
   "outputs": [],
   "source": [
    "df['TotalCharges'].replace(\" \",np.nan,inplace=True)"
   ]
  },
  {
   "cell_type": "code",
   "execution_count": null,
   "id": "8dd4141a-dc8f-4208-82de-8406716b218d",
   "metadata": {},
   "outputs": [],
   "source": [
    "df['TotalCharges'] = df['TotalCharges'].astype('float64')"
   ]
  },
  {
   "cell_type": "code",
   "execution_count": null,
   "id": "f614d17e-3088-48fc-9064-07485e8dc041",
   "metadata": {},
   "outputs": [],
   "source": [
    "df.isnull().sum()"
   ]
  },
  {
   "cell_type": "markdown",
   "id": "6dadaeb3-5dd1-411f-998f-9a023849ee9a",
   "metadata": {},
   "source": [
    "- After we replaced space with nan values. There are 11 values appeares as null values.Total Charges = Tenure multiply Monthly charges. Let's try to fill missing values."
   ]
  },
  {
   "cell_type": "code",
   "execution_count": null,
   "id": "ea56ee2b-8150-4163-923a-2ba6c025a8ab",
   "metadata": {},
   "outputs": [],
   "source": [
    "df[df['TotalCharges'].isnull()] "
   ]
  },
  {
   "cell_type": "markdown",
   "id": "74b6a79e-25e1-4cad-8ed3-6c15ae1918f0",
   "metadata": {},
   "source": [
    "- We see that TotalCharges is not missing at random, When Total Charges is missing, Tenure column is missing as well.\n",
    "- We can simply delete these rows."
   ]
  },
  {
   "cell_type": "code",
   "execution_count": null,
   "id": "3bdcee8b-e7b7-428c-bf00-42faa066d12b",
   "metadata": {},
   "outputs": [],
   "source": [
    "df.dropna(axis=0,inplace=True)  # We deleted rows that have any missing values."
   ]
  },
  {
   "cell_type": "code",
   "execution_count": null,
   "id": "aa677854-b9b9-487e-b2bd-e82c926f563c",
   "metadata": {},
   "outputs": [],
   "source": [
    "df.head()"
   ]
  },
  {
   "cell_type": "code",
   "execution_count": null,
   "id": "2e51c3b0-3018-462d-87ba-59d2f0e79603",
   "metadata": {},
   "outputs": [],
   "source": [
    "df.isnull().sum() # Now We have no missing values."
   ]
  },
  {
   "cell_type": "markdown",
   "id": "fd21f9f1-28fd-4e0f-8182-8dbaab973300",
   "metadata": {},
   "source": [
    "### Exploratory Data Analysis"
   ]
  },
  {
   "cell_type": "markdown",
   "id": "09cc6f97-3f97-4987-8224-2637c5677ae0",
   "metadata": {},
   "source": [
    "### Churn Rate"
   ]
  },
  {
   "cell_type": "markdown",
   "id": "5165e539-f2c0-475a-bccd-a8b76663db36",
   "metadata": {},
   "source": [
    "- Let's see the ratio of customer who churned|"
   ]
  },
  {
   "cell_type": "code",
   "execution_count": null,
   "id": "933240f7-187c-4884-9cdd-610ad9841ea8",
   "metadata": {},
   "outputs": [],
   "source": [
    "print('Percentage of churn rate :  ',round((df[df.Churn=='Yes']['Churn'].count()/ df['Churn'].count())*100),'%') ### Percentage of people who left "
   ]
  },
  {
   "cell_type": "code",
   "execution_count": null,
   "id": "e4df2097-fe12-494f-847b-95a591cb60f5",
   "metadata": {},
   "outputs": [],
   "source": [
    "sns.countplot(x='Churn',data=df)\n",
    "plt.title('Churn Rate')\n",
    "plt.show()\n",
    "print('-'*100)\n",
    "print((df['Churn'].value_counts().to_frame()))"
   ]
  },
  {
   "cell_type": "markdown",
   "id": "ac4e6467-f908-404d-a4bc-fe12664d44ac",
   "metadata": {},
   "source": [
    "**1869** customers churned while **5163** customers stayed."
   ]
  },
  {
   "cell_type": "markdown",
   "id": "fd08b76d-92bb-44ad-8065-50b8bae3c1cd",
   "metadata": {},
   "source": [
    "## Numerical Values"
   ]
  },
  {
   "cell_type": "markdown",
   "id": "b68a8636-a50d-40e3-add4-39374b585950",
   "metadata": {},
   "source": [
    "### Distributions of Numerical Values"
   ]
  },
  {
   "cell_type": "code",
   "execution_count": null,
   "id": "72c6589f-3350-45cb-9969-3af0120a98d6",
   "metadata": {},
   "outputs": [],
   "source": [
    "fig, axes = plt.subplots(1, 3, figsize=(20, 5), sharey=True)\n",
    "for i,j in enumerate(df.describe().columns):\n",
    "    sns.distplot(ax=axes[i],x=df[j],bins=30,kde=False,color='red')\n",
    "    axes[i].set_title(j)\n",
    "plt.show()"
   ]
  },
  {
   "cell_type": "markdown",
   "id": "10fac78a-71e7-45be-bcbf-a248d8615399",
   "metadata": {},
   "source": [
    "### Insights "
   ]
  },
  {
   "cell_type": "markdown",
   "id": "bd36a6c8-8433-4881-84c3-5d9c6a5a4eb0",
   "metadata": {},
   "source": [
    "* **Tenure**\n",
    "* Customers tend to have long tenure or short tenure\n",
    "* Customers have less venure might be new customers. We need to analyse further.\n",
    "* **Monthly Charges**\n",
    "* Our company usually get payment around 20\n",
    "* **Total Charges**\n",
    "* Most of the total charges between 0-250 "
   ]
  },
  {
   "cell_type": "markdown",
   "id": "75d017a0-d191-42bc-9e56-2e1bcdb880bf",
   "metadata": {},
   "source": [
    "### Boxplots"
   ]
  },
  {
   "cell_type": "code",
   "execution_count": null,
   "id": "94d35bb2-30d1-4e7a-a627-6e33ee5c2269",
   "metadata": {
    "tags": []
   },
   "outputs": [],
   "source": [
    "fig, axes = plt.subplots(1, 3, figsize=(20, 5), sharey=True)\n",
    "for i,j in enumerate(df.describe().columns):\n",
    "    sns.boxplot(ax=axes[i],x=df[j],color='red')\n",
    "    axes[i].set_title(j)\n",
    "plt.show()"
   ]
  },
  {
   "cell_type": "markdown",
   "id": "f6f4aba7-1de6-4616-89f3-febed3ee68e2",
   "metadata": {},
   "source": [
    "#### Insights"
   ]
  },
  {
   "cell_type": "markdown",
   "id": "2ccaca08-49b1-4886-8dfa-57832bc86da7",
   "metadata": {},
   "source": [
    "#### *It seems that we don't have any outliers based on our single numeric columns*"
   ]
  },
  {
   "cell_type": "markdown",
   "id": "c4c495b9-72a4-4e5d-aa21-6a5ae71526f2",
   "metadata": {},
   "source": [
    "## Categorical Bivariate Analysis"
   ]
  },
  {
   "cell_type": "markdown",
   "id": "4976911a-f966-49c6-a9bc-a49f58122046",
   "metadata": {},
   "source": [
    "- Six binary features (Yes/No)\n",
    "- Nine features with three unique values each (categories)\n",
    "- One feature with four unique values"
   ]
  },
  {
   "cell_type": "markdown",
   "id": "add1a94a-486a-4881-852f-bf2381e2ff05",
   "metadata": {},
   "source": [
    "## Insights"
   ]
  },
  {
   "cell_type": "markdown",
   "id": "a0e020b7-9f34-44b5-8389-021239f48726",
   "metadata": {},
   "source": [
    "#### Let's see how many categorical values in the dataset."
   ]
  },
  {
   "cell_type": "code",
   "execution_count": null,
   "id": "30c0b84b-dfbf-4450-aff5-ba554d4fb668",
   "metadata": {},
   "outputs": [],
   "source": [
    "len(df.describe(include=object).columns)"
   ]
  },
  {
   "cell_type": "code",
   "execution_count": null,
   "id": "927cc8d8-7e1f-4d63-ac10-172d7519c7a6",
   "metadata": {},
   "outputs": [],
   "source": [
    "(df.describe(include=object).columns).tolist()"
   ]
  },
  {
   "cell_type": "markdown",
   "id": "63836705-b08b-484f-8818-20ec799ef5d7",
   "metadata": {},
   "source": [
    "### CountPlot"
   ]
  },
  {
   "cell_type": "markdown",
   "id": "9e0afcfe-b05e-4b9f-ab87-3cc983ad06f1",
   "metadata": {},
   "source": [
    "Let's see the number of people who churned by given column"
   ]
  },
  {
   "cell_type": "code",
   "execution_count": null,
   "id": "3624f432-a639-4baa-81a7-e1064114d828",
   "metadata": {},
   "outputs": [],
   "source": [
    "\n",
    "for i in df.describe(include=object).columns:\n",
    "    plt.figure(figsize=(8,6))\n",
    "    sns.countplot(i,data=df,hue='Churn')\n",
    "    plt.title('Churn Number by' + ' '+ str(i))\n",
    "    plt.show() \n",
    "    plt.tight_layout"
   ]
  },
  {
   "cell_type": "markdown",
   "id": "37ccbd9f-e9ae-44ed-92fc-8de5810bb4b1",
   "metadata": {},
   "source": [
    "###  Takeaways"
   ]
  },
  {
   "cell_type": "markdown",
   "id": "bf3334d5-be9a-42e8-8da5-da086409463b",
   "metadata": {},
   "source": [
    "### Gender\n",
    "* There is no significantly difference between gender. Male and Female customer have the same churn ratio.\n",
    "### SeniorCitizen\n",
    "* Most of the customers are not SeniorCitizen.\n",
    "### Partners\n",
    "* Customers that doesn't have partners are more likely to churn\n",
    "### Dependents \n",
    "* Customers without dependents are also more likely to churn\n",
    "### Phone Service \n",
    "* Our Phone Service might not be  as good as customer expected. Because Customer who has phoneservice are more prone to churn."
   ]
  },
  {
   "cell_type": "markdown",
   "id": "a26bdcf3-ea32-4736-8ab2-fdf67fb16da7",
   "metadata": {},
   "source": [
    "### Correlations"
   ]
  },
  {
   "cell_type": "code",
   "execution_count": null,
   "id": "6cb82d91-ba31-4a58-a024-88cfadb3c475",
   "metadata": {},
   "outputs": [],
   "source": [
    "df['Churn'] =  np.where(df['Churn']=='Yes',1,0)\n",
    "sns.heatmap(df.corr(method='pearson'),annot=True)\n",
    "plt.title('Correlations between Variables')"
   ]
  },
  {
   "cell_type": "markdown",
   "id": "ed19f619-27c1-4202-8c24-077247af1de3",
   "metadata": {},
   "source": [
    "### Results"
   ]
  },
  {
   "cell_type": "markdown",
   "id": "f3d11934-b587-4560-9161-798124f7290b",
   "metadata": {},
   "source": [
    "- Tenure is negatively correlated with Churn \n",
    "- Monthly Charges positively correlated with Churn\n",
    "- Total Charges negatively correlated with Churn"
   ]
  },
  {
   "cell_type": "markdown",
   "id": "b2a5ea52-4086-44a9-9299-9cfdd18f30b9",
   "metadata": {},
   "source": [
    "##### Save Our Dataframe for model building section"
   ]
  },
  {
   "cell_type": "code",
   "execution_count": null,
   "id": "738ff340-7bce-4b22-9b60-2812f8daaf30",
   "metadata": {},
   "outputs": [],
   "source": [
    "df.to_csv('preprocessed_churn.csv')"
   ]
  },
  {
   "cell_type": "code",
   "execution_count": null,
   "id": "f58f4b92-fbd2-4994-b5f6-c76e9a985ee7",
   "metadata": {},
   "outputs": [],
   "source": []
  }
 ],
 "metadata": {
  "kernelspec": {
   "display_name": "basic",
   "language": "python",
   "name": "basic"
  },
  "language_info": {
   "codemirror_mode": {
    "name": "ipython",
    "version": 3
   },
   "file_extension": ".py",
   "mimetype": "text/x-python",
   "name": "python",
   "nbconvert_exporter": "python",
   "pygments_lexer": "ipython3",
   "version": "3.8.8"
  }
 },
 "nbformat": 4,
 "nbformat_minor": 5
}
